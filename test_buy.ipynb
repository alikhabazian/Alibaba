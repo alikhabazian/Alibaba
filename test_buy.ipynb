{
 "cells": [
  {
   "cell_type": "code",
   "execution_count": 54,
   "id": "initial_id",
   "metadata": {
    "collapsed": true,
    "ExecuteTime": {
     "end_time": "2023-09-18T15:29:55.316725Z",
     "start_time": "2023-09-18T15:29:55.002818Z"
    }
   },
   "outputs": [
    {
     "name": "stdout",
     "output_type": "stream",
     "text": [
      "<Response [200]>\n"
     ]
    }
   ],
   "source": [
    "import requests\n",
    "\n",
    "url = \"https://ws.alibaba.ir/api/v3/account/token\"\n",
    "\n",
    "payload = {\n",
    "    \"emailOrPhone\": \"09130834803\",\n",
    "    \"password\": \"ali1378428\"\n",
    "}\n",
    "headers = {\n",
    "    # \"cookie\": \"TS01b4a14d=011f5aef9e78a4debd0eb28779cb989b5c326f2d55222a6e76bb8417b1087ee85f35055f72171a079dbb7fc4930768fbdedb0d46a7; TS01b4a14d030=015fa04d29502fc728e9dc4c082cbef26137f7bd671b4b1253742160e85239f5137d89aeedbd4d2602c265713ba72402bd9aa4d314\",\n",
    "    \"Content-Type\": \"application/json\"\n",
    "}\n",
    "\n",
    "response = requests.request(\"POST\", url, json=payload, headers=headers)\n",
    "\n",
    "print(response)"
   ]
  },
  {
   "cell_type": "code",
   "execution_count": 55,
   "outputs": [],
   "source": [
    "token=response.json()['result']['access_token']"
   ],
   "metadata": {
    "collapsed": false,
    "ExecuteTime": {
     "end_time": "2023-09-18T15:29:55.323055Z",
     "start_time": "2023-09-18T15:29:55.313359Z"
    }
   },
   "id": "3ca1012b6f81c7b2"
  },
  {
   "cell_type": "code",
   "execution_count": 65,
   "outputs": [
    {
     "data": {
      "text/plain": "'eyJhbGciOiJSUzI1NiIsImtpZCI6IkE2MDk5NjE0MUU5MTJDMDhBRjQyMEFGMjUyNjI2N0Q5NkNGRjUyRjZSUzI1NiIsInR5cCI6ImF0K2p3dCIsIng1dCI6InBnbVdGQjZSTEFpdlFncnlVbUpuMld6X1V2WSJ9.eyJuYmYiOjE2OTUwNTA5OTUsImV4cCI6MTY5Njc3ODk5NSwiaXNzIjoiaHR0cDovL2lkZW50aXR5IiwiYXVkIjoiYXBpMSIsImNsaWVudF9pZCI6InJvLmNsaWVudCIsInN1YiI6ImUwMmQyMzk1LWRmMGUtNGU5NC1iZGNiLTZjNDI1MWVmNjg2NSIsImF1dGhfdGltZSI6MTY5NTA1MDk5NSwiaWRwIjoibG9jYWwiLCJwcmVmZXJyZWRfdXNlcm5hbWUiOiIwOTEzMDgzNDgwMyIsInBob25lX251bWJlciI6IjA5MTMwODM0ODAzIiwicGhvbmVfbnVtYmVyX3ZlcmlmaWVkIjp0cnVlLCJpc19yZXNlbGxlciI6ZmFsc2UsInNhbGVzX2NoYW5uZWwiOiJCMkMiLCJ1c2VyX3VuaXF1ZV9udW1iZXIiOiI1MDU5MTg4NjYiLCJqdGkiOiI4QTRFMjU2RUZENjZBMzgxMzZCQjExNkI3NUYzMUVCNiIsImlhdCI6MTY5NTA1MDk5NSwic2NvcGUiOlsiYXBpMSJdLCJhbXIiOlsicHdkIl19.Mun3gg9AHa3QGslvYArIfi-Z9e7ZVMazCb0lNX58QdBkRwvVumQNrwsQr8zN48WPK3ZG6P9YQzH4sZaZewQ9ADpqzR1rwC1-0vdt9ayS2rSGvguLVJi9TeVs6kbXJiflK2yoHwKPzvMSoOe4gXHibfqp34TgRWb7FKu1QZWMKrOovtVUODili7EMXsHBxIu-OHr9tdW0yEtw0VCQbVAJEsLacdEV6VomH9FvsdTO1Sjp80HXV5spsW0M7xHD5VVytCTs2TQrUFX7zBCD95Gzy8frw4E0nMoFUUn0LOHh_r4CgZOhoESgzgaHcJz9mFiUSvXUnBHyDqABQB0-2xeHew'"
     },
     "execution_count": 65,
     "metadata": {},
     "output_type": "execute_result"
    }
   ],
   "source": [
    "token"
   ],
   "metadata": {
    "collapsed": false,
    "ExecuteTime": {
     "end_time": "2023-09-18T15:34:41.550992Z",
     "start_time": "2023-09-18T15:34:41.548953Z"
    }
   },
   "id": "bbbf08fcb23dd76b"
  },
  {
   "cell_type": "code",
   "execution_count": 66,
   "outputs": [
    {
     "name": "stdout",
     "output_type": "stream",
     "text": [
      "{\"result\":{\"basketId\":80528140},\"targetUrl\":null,\"success\":true,\"error\":null,\"unauthorizedRequest\":false,\"__wrapped\":true,\"__traceId\":null}\n",
      "80528140\n"
     ]
    }
   ],
   "source": [
    "import requests\n",
    "\n",
    "url = \"https://ws.alibaba.ir/api/v1/coordinator/basket/items/bus\"\n",
    "\n",
    "\n",
    "providerItemIds =  \"WkdJNVpURmpOelF0TWpGbFlpMDBObVZsTFdKbE1HRXRNRGMwTnpVNE9XUXdNamN4TDJ4TVl6Vk9WR2hzVFZSYWEwMHlVVEpOUkZac1RGUkpOVTFIV21sT1JHTTBUa1ZIYmsxcVJUUk5SRUYzVFV4TmVVMUVTWHBNVkVFMVRGUkpNRlpFU1hsUGFrRjNUMnBCZHc9PXwyMjUyYTIxMy1lYzlmLTQxNzAtYjM5YS0wN2RhYmRiM2E0ZTN8M0FBNjJaUmFSMGsxV2xSR2FrNTZVWFJOYWtac1dXa3dNRTV0Vm14TVYwcHNUVWRGZEUxRVl6Qk9lbFUwVDFkUmQwMXFZM2hNTW5oTldYcFdUMVpIYUhOVVZsSmhZVEF3ZVZWVVNrNVNSbHB6VkVaU1NrNVZNVWhYYld4UFVrZE5NRlJyVmtoaWF6RnhVbFJTVGxKRlJqTlVWWGhPWlZVeFJWTlljRTFXUlVVeFZFWlNTazFHV2tWVFdHeFFZV3RHTTFReWNFSmtkejA5MlR6WnZ0dU0ycWtnMkxYWXFOaW5JTmlxMllmWXNkaW4yWVlnMktMWXN0aW4ySy9iakNBbzJMcllzZGlvS1NEWXF0aTUyS2ZaaU5tRzI0d2dNVGVxTVRrME5UQTFPVFF4T2EzWnZ0dU0ycWtnMkxYWXFOaW5vS0NxTVRRd01pOHdOeTh3TXFVeU1qb3dNTE15TURJekxUQTVMVEkwVkRJeU9qQXdPakF3MXY5bEVJQW8yVGJZcDlpcTJZallxTm1JMkxNZzJLZllzOXFwMktmWmh0dU0yS2NnMllqYmpDRFlwOXVNSU5tKzI0d2cyS3JZcnRpcUlOaTAyWWluTWpFNE1EQXdNS2N5TVRnd01EQXdFYWd4TVRNeU1UQXdOTDdZcXRtSDJMSFlwOW1HSU5tKzJLZmJqTmluMlliWmh5RFl1dGl4MktpKzJLclpoOWl4MktmWmhpRFp2dGluMjR6WXA5bUcyWWNnMkxyWXNkaW9xREkyTXpFd01EQXdxdGlxMktqWXNkdU0yTEtxMktyWXFOaXgyNHpZc3BHcTJLcllxTml4MjR6WXNxQUEyWnhZZWtVd1RVUktaazFFWkdaTlJFcG1UV3BLWmsxRVFtWXlTM0phYURscGVESkxabHBvYkM5YWRuUnBiakkwZWxsd09XMUhNbGxrWmpKTWNsbHpaR2x2V0hwRk0xZzVhVzR5UzNKYWFVNXBiekpaYWxsek1TOVpjRGxwZWpKeGJsbHdPVzFITWpSNldYQXhMMXBwVG5WTldEbHBiakkwZUdZeVlqZGlha1l2V1hGMGFYVXlTM0JtTWt4VVdtbEdPSGxOVkdkM1RVUkJkMHhxUVQzQ29URER3c0toTUpETEFBQUFBQUFBQUFBQXdxcllxdGlvMkxIYmpOaXlvTXRBQUFBQUFBQUFBQVFBQkFDb1VHRjVZVzVsYUdIVy8yVVFzV0RaTkdoMGRIQnpPaTh2WTJSdUxtRnNhV0poWW1FdWFYSXZjM1JoZEdsakwybHRaeTlpZFhNdk1UazBOVEExT1RReE9TNXFjR2ZDb0FDZzJTUXlNalV5WVRJeE15MWxZemxtTFRReE56QXRZak01WVMwd04yUmhZbVJpTTJFMFpUTUJvVERBb1RDbk1qRTRNREF3TU1zQUFBQUFBQUFBQU1QQ3dBPT0=\"\n",
    "\n",
    "\n",
    "seat=21\n",
    "payload = {\"providerItemIds\":[f\"{providerItemIds}\"],\n",
    "           \"firstName\":\"علی\",\n",
    "           \"lastName\":\"خبازیان\",\n",
    "           \"firstNameEnglish\":None,\n",
    "           \"lastNameEnglish\":None,\n",
    "           \"title\":\"MR\",\n",
    "           \"seats\":[seat],\n",
    "           \"nationalCodes\":[\"1272955753\"]\n",
    "           }\n",
    "headers = {\n",
    "    \"Authorization\": f\"Bearer {token}\"\n",
    "}\n",
    "\n",
    "response = requests.request(\"PUT\", url, json=payload, headers=headers)\n",
    "\n",
    "print(response.text)\n",
    "basketId=response.json()['result']['basketId']\n",
    "print(basketId)"
   ],
   "metadata": {
    "collapsed": false,
    "ExecuteTime": {
     "end_time": "2023-09-18T15:36:27.277786Z",
     "start_time": "2023-09-18T15:36:26.014802Z"
    }
   },
   "id": "82f510af2d3e5b8d"
  },
  {
   "cell_type": "code",
   "execution_count": 67,
   "outputs": [
    {
     "name": "stdout",
     "output_type": "stream",
     "text": [
      "{\"result\":{\"orderId\":1059674196},\"targetUrl\":null,\"success\":true,\"error\":null,\"unauthorizedRequest\":false,\"__wrapped\":true,\"__traceId\":null}\n",
      "1059674196\n"
     ]
    }
   ],
   "source": [
    "# checkout\n",
    "# https://ws.alibaba.ir/api/v2/coordinator/basket/80503438/checkout\n",
    "url = f\"https://ws.alibaba.ir/api/v2/coordinator/basket/{basketId}/checkout\"\n",
    "headers = {\n",
    "    \"Authorization\": f\"Bearer {token}\"\n",
    "}\n",
    "\n",
    "\n",
    "payload={\"notificationEmail\":\"\",\"notificationCellphoneNumber\":\"09130834803\"}\n",
    "response = requests.request(\"POST\", url,json=payload ,headers=headers)\n",
    "print(response.text)\n",
    "orderId=response.json()['result']['orderId']\n",
    "print(orderId)"
   ],
   "metadata": {
    "collapsed": false,
    "ExecuteTime": {
     "end_time": "2023-09-18T15:36:29.760629Z",
     "start_time": "2023-09-18T15:36:28.129250Z"
    }
   },
   "id": "321bb87af63df19f"
  },
  {
   "cell_type": "code",
   "execution_count": 68,
   "outputs": [
    {
     "data": {
      "text/plain": "'{\"result\":true,\"targetUrl\":null,\"success\":true,\"error\":null,\"unauthorizedRequest\":false,\"__wrapped\":true,\"__traceId\":null}'"
     },
     "execution_count": 68,
     "metadata": {},
     "output_type": "execute_result"
    }
   ],
   "source": [
    "url =f'https://ws.alibaba.ir/api/v1/coordinator/order/{orderId}/confirm'\n",
    "headers = {\n",
    "    \"Authorization\": f\"Bearer {token}\"\n",
    "}\n",
    "response = requests.request(\"POST\", url, headers=headers)\n",
    "\n",
    "response.text"
   ],
   "metadata": {
    "collapsed": false,
    "ExecuteTime": {
     "end_time": "2023-09-18T15:36:34.303975Z",
     "start_time": "2023-09-18T15:36:30.220338Z"
    }
   },
   "id": "84079f7c980de752"
  },
  {
   "cell_type": "code",
   "execution_count": 69,
   "outputs": [
    {
     "data": {
      "text/plain": "'{\"result\":{\"orderStatus\":\"Confirmed\",\"orderStatusReason\":null,\"newOrderId\":null,\"additionalData\":null,\"errorDescription\":null,\"errorCode\":0,\"actionCode\":0},\"targetUrl\":null,\"success\":true,\"error\":null,\"unauthorizedRequest\":false,\"__wrapped\":true,\"__traceId\":null}'"
     },
     "execution_count": 69,
     "metadata": {},
     "output_type": "execute_result"
    }
   ],
   "source": [
    "# https://ws.alibaba.ir/api/v2/coordinator/order/1059662586/status\n",
    "url = f\"https://ws.alibaba.ir/api/v2/coordinator/order/{orderId}/status\"\n",
    "\n",
    "headers = {\n",
    "    \"Authorization\": f\"Bearer {token}\"\n",
    "}\n",
    "\n",
    "response = requests.request(\"GET\", url, headers=headers)\n",
    "response.text"
   ],
   "metadata": {
    "collapsed": false,
    "ExecuteTime": {
     "end_time": "2023-09-18T15:36:35.389480Z",
     "start_time": "2023-09-18T15:36:34.305638Z"
    }
   },
   "id": "103ea89e483d2d1e"
  },
  {
   "cell_type": "markdown",
   "source": [],
   "metadata": {
    "collapsed": false
   },
   "id": "4f288bfab920fcc0"
  },
  {
   "cell_type": "code",
   "execution_count": 70,
   "outputs": [
    {
     "data": {
      "text/plain": "1059674196"
     },
     "execution_count": 70,
     "metadata": {},
     "output_type": "execute_result"
    }
   ],
   "source": [
    "orderId"
   ],
   "metadata": {
    "collapsed": false,
    "ExecuteTime": {
     "end_time": "2023-09-18T15:36:35.394656Z",
     "start_time": "2023-09-18T15:36:35.390744Z"
    }
   },
   "id": "2af15b3d679b803d"
  },
  {
   "cell_type": "code",
   "execution_count": 80,
   "outputs": [
    {
     "data": {
      "text/plain": "'{\"result\":null,\"targetUrl\":null,\"success\":false,\"error\":{\"errorCode\":5,\"message\":\"امکان پرداخت برای سفارش در این وضعیت وجود ندارد.\",\"details\":\"\",\"source\":null,\"validationErrors\":{}},\"unauthorizedRequest\":false,\"__wrapped\":true,\"__traceId\":null}'"
     },
     "execution_count": 80,
     "metadata": {},
     "output_type": "execute_result"
    }
   ],
   "source": [
    "url= f'https://ws.alibaba.ir/api/v3/coordinator/order/{orderId}/pay-request'\n",
    "\n",
    "'m18dqfr'\n",
    "\n",
    "payload={\"redirectUrl\":f\"https://www.alibaba.ir/bus/THR-TBZ/o6ti0e/{orderId}/issue\",\"payRequestType\":\"PayByBank\"}\n",
    "\n",
    "headers = {\n",
    "    \"Authorization\": f\"Bearer {token}\"\n",
    "}\n",
    "\n",
    "response = requests.request(\"POST\", url,json=payload, headers=headers)\n",
    "response.text"
   ],
   "metadata": {
    "collapsed": false,
    "ExecuteTime": {
     "end_time": "2023-09-19T17:39:24.063158Z",
     "start_time": "2023-09-19T17:39:22.750426Z"
    }
   },
   "id": "3fd25282d77e51f7"
  },
  {
   "cell_type": "code",
   "execution_count": 75,
   "outputs": [
    {
     "name": "stdout",
     "output_type": "stream",
     "text": [
      "10 Available\n",
      "{'index': 10, 'number': 10, 'column': 1, 'row': 4, 'status': 'Available'}\n"
     ]
    }
   ],
   "source": [
    "providerItemIds='TVRFeFpHRm1aR010WW1aaVppMDBNemcwTFdFeE16TXROVEk0TnpZM1ltRmtNelV6TDJ4TVl6Vk9WR2hzVFZSYWEwMHlVVEpOUkZadFRGUkpOVTFIV21sT1JHTTBUa1ZIYmsxcVJUUk5SRUYzVFV4TmVVMUVTWHBNVkVFMVRGUkpNVlpFU1hsUGFrRjNUMnBCZHc9PXwyMjUyYTIxMy1lYzlmLTQxNzAtYjM5YS0wN2RhYmRiM2E0ZTN8M0FBNjJaUk5WRVY0V2tkR2JWcEhUWFJaYlZwcFdta3dNRTE2WnpCTVYwVjRUWHBOZEU1VVNUUk9lbGt6V1cxR2EwMTZWWHBNTW5oTldYcFdUMVpIYUhOVVZsSmhZVEF3ZVZWVVNrNVNSbHAwVkVaU1NrNVZNVWhYYld4UFVrZE5NRlJyVmtoaWF6RnhVbFJTVGxKRlJqTlVWWGhPWlZVeFJWTlljRTFXUlVVeFZFWlNTazFXV2tWVFdHeFFZV3RHTTFReWNFSmtkejA5MlR6WnZ0dU0ycWtnMkxYWXFOaW5JTmlxMllmWXNkaW4yWVlnMktMWXN0aW4ySy9iakNBbzJMcllzZGlvS1NEWXF0aTUyS2ZaaU5tRzI0d2dNVGVxTVRrME5UQTFPVFF4T2EzWnZ0dU0ycWtnMkxYWXFOaW5vS0NxTVRRd01pOHdOeTh3TTZVeU1qb3dNTE15TURJekxUQTVMVEkxVkRJeU9qQXdPakF3MXY5bEVkR28yVGJZcDlpcTJZallxTm1JMkxNZzJLZllzOXFwMktmWmh0dU0yS2NnMllqYmpDRFlwOXVNSU5tKzI0d2cyS3JZcnRpcUlOaTAyWWluTWpFNE1EQXdNS2N5TVRnd01EQXdDcWd4TVRNeU1UQXdOTDdZcXRtSDJMSFlwOW1HSU5tKzJLZmJqTmluMlliWmh5RFl1dGl4MktpKzJLclpoOWl4MktmWmhpRFp2dGluMjR6WXA5bUcyWWNnMkxyWXNkaW9xREkyTXpFd01EQXdxdGlxMktqWXNkdU0yTEtxMktyWXFOaXgyNHpZc3BHcTJLcllxTml4MjR6WXNxQUEyWmhZZWtVd1RVUktaazFFWkdaTlJFNW1UV3BLWmsxRVFtWXlTM0phYURscGVESkxabHBvYkM5YWRuUnBiakkwZWxsd09XMUhNbGxrWmpKTWNsbHpaR2x2V0hwRmQxZzVhVzR5UzNKYWFVNXBiekpaYWxsek1TOVpjRGxwZWpKeGJsbHdPVzFITWpSNldYQXhMMXBwVG5WTldEbHBiakkwZUdZeVlqZGlha1l2V1hGMGFYVXlTM0JtTWt4VVdtbEdPSGxOVkdkM1RVUkJkOEtoTU1QQ3dxRXdrTXNBQUFBQUFBQUFBQURDcXRpcTJLallzZHVNMkxLZ3kwQUFBQUFBQUFBQUJBQUZBS2hRWVhsaGJtVm9ZZGIvWlJJQzROazBhSFIwY0hNNkx5OWpaRzR1WVd4cFltRmlZUzVwY2k5emRHRjBhV012YVcxbkwySjFjeTh4T1RRMU1EVTVOREU1TG1wd1o4S2dBS0RaSkRJeU5USmhNakV6TFdWak9XWXROREUzTUMxaU16bGhMVEEzWkdGaVpHSXpZVFJsTXdHaE1NQ2hNS2N5TVRnd01EQXd5d0FBQUFBQUFBQUF3OExB'\n",
    "url=f'https://ws.alibaba.ir/api/v1/bus/available/{providerItemIds}/seats'\n",
    "\n",
    "response = requests.request(\"GET\", url)\n",
    "for item in response.json()['result']:  \n",
    "    if item['status']=='Available':\n",
    "        print(item['index'],item['status'])\n",
    "        break\n",
    "print(item)"
   ],
   "metadata": {
    "collapsed": false,
    "ExecuteTime": {
     "end_time": "2023-09-19T15:33:22.631538Z",
     "start_time": "2023-09-19T15:33:21.561800Z"
    }
   },
   "id": "c7729ede55b9a3c"
  },
  {
   "cell_type": "code",
   "execution_count": 79,
   "outputs": [
    {
     "data": {
      "text/plain": "'{\"currentDateTime\":\"2023-09-19T19:31:43.9086333+03:30\"}'"
     },
     "execution_count": 79,
     "metadata": {},
     "output_type": "execute_result"
    }
   ],
   "source": [
    "url='https://ws.alibaba.ir/api/v1/fintech/experiments/common/current-datetime'\n",
    "\n",
    "headers = {\n",
    "    \"Authorization\": f\"Bearer {token}\"\n",
    "}\n",
    "\n",
    "response = requests.request(\"GET\", url,headers=headers)\n",
    "response.text"
   ],
   "metadata": {
    "collapsed": false,
    "ExecuteTime": {
     "end_time": "2023-09-19T16:01:43.882475Z",
     "start_time": "2023-09-19T16:01:43.693339Z"
    }
   },
   "id": "eb9428e17eadeee4"
  },
  {
   "cell_type": "code",
   "execution_count": 81,
   "outputs": [
    {
     "name": "stdout",
     "output_type": "stream",
     "text": [
      "hi\n"
     ]
    }
   ],
   "source": [
    "print('hi')"
   ],
   "metadata": {
    "collapsed": false,
    "ExecuteTime": {
     "end_time": "2023-09-25T18:05:06.033112Z",
     "start_time": "2023-09-25T18:05:06.029555Z"
    }
   },
   "id": "9d9a9df0b3bf6dec"
  },
  {
   "cell_type": "code",
   "execution_count": null,
   "outputs": [],
   "source": [],
   "metadata": {
    "collapsed": false
   },
   "id": "9dc4844fa6edb80e"
  }
 ],
 "metadata": {
  "kernelspec": {
   "display_name": "Python 3",
   "language": "python",
   "name": "python3"
  },
  "language_info": {
   "codemirror_mode": {
    "name": "ipython",
    "version": 2
   },
   "file_extension": ".py",
   "mimetype": "text/x-python",
   "name": "python",
   "nbconvert_exporter": "python",
   "pygments_lexer": "ipython2",
   "version": "2.7.6"
  }
 },
 "nbformat": 4,
 "nbformat_minor": 5
}
