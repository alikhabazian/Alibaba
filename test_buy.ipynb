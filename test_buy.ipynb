{
 "cells": [
  {
   "cell_type": "code",
   "execution_count": 17,
   "id": "initial_id",
   "metadata": {
    "collapsed": true,
    "ExecuteTime": {
     "end_time": "2023-09-18T11:36:51.637164Z",
     "start_time": "2023-09-18T11:36:51.290572Z"
    }
   },
   "outputs": [
    {
     "name": "stdout",
     "output_type": "stream",
     "text": [
      "<Response [200]>\n"
     ]
    }
   ],
   "source": [
    "import requests\n",
    "\n",
    "url = \"https://ws.alibaba.ir/api/v3/account/token\"\n",
    "\n",
    "payload = {\n",
    "    \"emailOrPhone\": \"09130834803\",\n",
    "    \"password\": \"ali1378428\"\n",
    "}\n",
    "headers = {\n",
    "    \"cookie\": \"TS01b4a14d=011f5aef9e78a4debd0eb28779cb989b5c326f2d55222a6e76bb8417b1087ee85f35055f72171a079dbb7fc4930768fbdedb0d46a7; TS01b4a14d030=015fa04d29502fc728e9dc4c082cbef26137f7bd671b4b1253742160e85239f5137d89aeedbd4d2602c265713ba72402bd9aa4d314\",\n",
    "    \"Content-Type\": \"application/json\"\n",
    "}\n",
    "\n",
    "response = requests.request(\"POST\", url, json=payload, headers=headers)\n",
    "\n",
    "print(response)"
   ]
  },
  {
   "cell_type": "code",
   "execution_count": 18,
   "outputs": [],
   "source": [
    "token=response.json()['result']['access_token']"
   ],
   "metadata": {
    "collapsed": false,
    "ExecuteTime": {
     "end_time": "2023-09-18T11:36:52.617196Z",
     "start_time": "2023-09-18T11:36:52.613574Z"
    }
   },
   "id": "3ca1012b6f81c7b2"
  },
  {
   "cell_type": "code",
   "execution_count": 19,
   "outputs": [
    {
     "data": {
      "text/plain": "'eyJhbGciOiJSUzI1NiIsImtpZCI6IkE2MDk5NjE0MUU5MTJDMDhBRjQyMEFGMjUyNjI2N0Q5NkNGRjUyRjZSUzI1NiIsInR5cCI6ImF0K2p3dCIsIng1dCI6InBnbVdGQjZSTEFpdlFncnlVbUpuMld6X1V2WSJ9.eyJuYmYiOjE2OTUwMzcwMTEsImV4cCI6MTY5Njc2NTAxMSwiaXNzIjoiaHR0cDovL2lkZW50aXR5IiwiYXVkIjoiYXBpMSIsImNsaWVudF9pZCI6InJvLmNsaWVudCIsInN1YiI6ImUwMmQyMzk1LWRmMGUtNGU5NC1iZGNiLTZjNDI1MWVmNjg2NSIsImF1dGhfdGltZSI6MTY5NTAzNzAxMSwiaWRwIjoibG9jYWwiLCJwcmVmZXJyZWRfdXNlcm5hbWUiOiIwOTEzMDgzNDgwMyIsInBob25lX251bWJlciI6IjA5MTMwODM0ODAzIiwicGhvbmVfbnVtYmVyX3ZlcmlmaWVkIjp0cnVlLCJpc19yZXNlbGxlciI6ZmFsc2UsInNhbGVzX2NoYW5uZWwiOiJCMkMiLCJ1c2VyX3VuaXF1ZV9udW1iZXIiOiI1MDU5MTg4NjYiLCJqdGkiOiI2M0VBMzc1MUQxNThFNkNDOUZDN0U4QUI5MDQ4QzMzNCIsImlhdCI6MTY5NTAzNzAxMSwic2NvcGUiOlsiYXBpMSJdLCJhbXIiOlsicHdkIl19.Pzu2BhUu5w1_4wkWjy-gJjQwaJUL5i7b7IMtlmF2OX7-XXv3s0RCHGLBLRnAkpXIm0DM7BMU3mZ0ISyrMp_9SDw20WigMGkUlXB_4ndMMxYpZRiquk6guBEV99eDjxz9KE-uaHSOB3ksLXnyy1MwKlJW71I3dMmJCqAY6XTxO78Jaun6EGYmQMTWo8BbTP7iQn4mMWpIdXzq9sK1AyFN6qhB8OiOiSH78g6flzV6eMmLiClS3qby2kzsN4oy-tffJFo6XWRmfFo8QWbj_xFhEHCRqy4FUv1zgkzePlEmxm7SyhYwVjU0T_Q0bLu79rWrbn9hqRoXq-xIXdNSMts0ew'"
     },
     "execution_count": 19,
     "metadata": {},
     "output_type": "execute_result"
    }
   ],
   "source": [
    "token"
   ],
   "metadata": {
    "collapsed": false,
    "ExecuteTime": {
     "end_time": "2023-09-18T11:36:52.804673Z",
     "start_time": "2023-09-18T11:36:52.796975Z"
    }
   },
   "id": "bbbf08fcb23dd76b"
  },
  {
   "cell_type": "code",
   "execution_count": 22,
   "outputs": [
    {
     "name": "stdout",
     "output_type": "stream",
     "text": [
      "{\"result\":{\"basketId\":80502310},\"targetUrl\":null,\"success\":true,\"error\":null,\"unauthorizedRequest\":false,\"__wrapped\":true,\"__traceId\":null}\n",
      "80502310\n"
     ]
    }
   ],
   "source": [
    "import requests\n",
    "\n",
    "url = \"https://ws.alibaba.ir/api/v1/coordinator/basket/items/bus\"\n",
    "\n",
    "{\"providerItemIds\":[\"TmpOaE16VTJNbU10WlRnNE1pMDBPREF4TFRsbFpHTXRNemd5TnpkbU1HRmhZbUUzTDJ4TFNsUlZOMVpVVlhwSmVVMVVVbFZUUlVwVVUwVnplRTlXVGtaVlJFbDNUV3BQYWxaRmFFTnZNR3hIVkdkOGZBPT18M2MxNDA3ZDgtNGVlOS00NGNhLWJlZmUtNGM0NGUyNTYzZDRhfDNBQTYyWFJPYWs1b1RYcFZNazF0VFhSYVZHYzBUV2t3TUU5RVFYaE1WR3hzV2tkTmRFMTZaM2xPZW1SdFRVZEdhRmx0UlROTU1uaE1VMnhTVms0eFdsVldXSEJLWlZVeFZWVnNWbFJTVlhCVlZUQldlbVZGT1ZkVWExcFdVa1ZzTTFSWGNGQmhiRnBHWVVWT2RrMUhlRWhXUjJRNFprRTlQYkRZczltSzJMRWcyWWdnMkxQWmdkaXhwekV4TURBM05qYWlVMU9pVTFPdzJMUFppdGl4SU5tSUlOaXoyWUhZc2FveE5EQXlMekEyTHpJNHBURXhPakF3c3pJd01qTXRNRGt0TVRsVU1URTZNREE2TUREVy8yVUpUZml4TWpVZzJZYlpnZGl4MlljZ0tGWkpVQ21uTVRVM05UQXdNS2N4TlRjMU1EQXdDNmd4TVRNeU1UQXdOOWtpMktyWmg5aXgyS2ZaaGlEWnZ0aW4yNHpZcDltRzJZY2cyS2piak5tSDJZTGJqTmtpMktyWmg5aXgyS2ZaaGlEWnZ0aW4yNHpZcDltRzJZY2cyS2piak5tSDJZTGJqS2d5TVRNeE1EQXdNS3pZcDlpMTJZSFpoOWluMllhczJLZll0ZG1CMllmWXA5bUdrYXpZdE5tSDJMSGFxZGl4MksrZ0FObUVNa3hRV21sMGFYaFlPVzFKV0RscGVqSlpTRmx6VmpoNFRrUkJlVmg2UVRKWWVrazBXSHBGZUZoNlFYZFlPV2x4TWxsbVdYTmthVzR5V1ZwbU1tSTNXWEE1ZFUweVMyWmFhSFJ0U0ZnNWFXOHlOSHBhYURsdFF6STBlR1pOVkVabVRXcFdaakpaWWxwblpHbDRNbGxrWmxneFdrcFZSamxtVFZSVk0wNVVRWGROUXpSM3dxRXd3OExDb1RDUXl3QUFBQUFBQUFBQUFNT3MyTFRaaDlpeDJxbllzZGl2b010QUFBQUFBQUFBQUFRQUF3Q2tUbWx5WWRiL1pRbC9NTmtzYUhSMGNITTZMeTlqWkc0dVlXeHBZbUZpWVM1cGNpOXpkR0YwYVdNdmFXMW5MMkoxY3k5VFV5NXFjR2ZDb0FDZzJTUXpZekUwTURka09DMDBaV1U1TFRRMFkyRXRZbVZtWlMwMFl6UTBaVEkxTmpOa05HRUJvVERBb1RDbk1UVTNOVEF3TU1zQUFBQUFBQUFBQU1QQ3dBPT0=\"],\"firstName\":\"علی\",\"lastName\":\"خبازیان\",\"firstNameEnglish\":None,\"lastNameEnglish\":None,\"title\":\"MR\",\"seats\":[21],\"nationalCodes\":[\"1272955753\"]}\n",
    "\n",
    "payload = {\"providerItemIds\":[\"TmpOaE16VTJNbU10WlRnNE1pMDBPREF4TFRsbFpHTXRNemd5TnpkbU1HRmhZbUUzTDJ4TFNsUlZOMVpVVlhwSmVVMVVVbFZUUlVwVVUwVnplRTlXVGtaVlJFbDNUV3BQYWxaRmFFTnZNR3hIVkdkOGZBPT18M2MxNDA3ZDgtNGVlOS00NGNhLWJlZmUtNGM0NGUyNTYzZDRhfDNBQTYyWFJPYWs1b1RYcFZNazF0VFhSYVZHYzBUV2t3TUU5RVFYaE1WR3hzV2tkTmRFMTZaM2xPZW1SdFRVZEdhRmx0UlROTU1uaE1VMnhTVms0eFdsVldXSEJLWlZVeFZWVnNWbFJTVlhCVlZUQldlbVZGT1ZkVWExcFdVa1ZzTTFSWGNGQmhiRnBHWVVWT2RrMUhlRWhXUjJRNFprRTlQYkRZczltSzJMRWcyWWdnMkxQWmdkaXhwekV4TURBM05qYWlVMU9pVTFPdzJMUFppdGl4SU5tSUlOaXoyWUhZc2FveE5EQXlMekEyTHpJNHBURXhPakF3c3pJd01qTXRNRGt0TVRsVU1URTZNREE2TUREVy8yVUpUZml4TWpVZzJZYlpnZGl4MlljZ0tGWkpVQ21uTVRVM05UQXdNS2N4TlRjMU1EQXdDNmd4TVRNeU1UQXdOOWtpMktyWmg5aXgyS2ZaaGlEWnZ0aW4yNHpZcDltRzJZY2cyS2piak5tSDJZTGJqTmtpMktyWmg5aXgyS2ZaaGlEWnZ0aW4yNHpZcDltRzJZY2cyS2piak5tSDJZTGJqS2d5TVRNeE1EQXdNS3pZcDlpMTJZSFpoOWluMllhczJLZll0ZG1CMllmWXA5bUdrYXpZdE5tSDJMSGFxZGl4MksrZ0FObUVNa3hRV21sMGFYaFlPVzFKV0RscGVqSlpTRmx6VmpoNFRrUkJlVmg2UVRKWWVrazBXSHBGZUZoNlFYZFlPV2x4TWxsbVdYTmthVzR5V1ZwbU1tSTNXWEE1ZFUweVMyWmFhSFJ0U0ZnNWFXOHlOSHBhYURsdFF6STBlR1pOVkVabVRXcFdaakpaWWxwblpHbDRNbGxrWmxneFdrcFZSamxtVFZSVk0wNVVRWGROUXpSM3dxRXd3OExDb1RDUXl3QUFBQUFBQUFBQUFNT3MyTFRaaDlpeDJxbllzZGl2b010QUFBQUFBQUFBQUFRQUF3Q2tUbWx5WWRiL1pRbC9NTmtzYUhSMGNITTZMeTlqWkc0dVlXeHBZbUZpWVM1cGNpOXpkR0YwYVdNdmFXMW5MMkoxY3k5VFV5NXFjR2ZDb0FDZzJTUXpZekUwTURka09DMDBaV1U1TFRRMFkyRXRZbVZtWlMwMFl6UTBaVEkxTmpOa05HRUJvVERBb1RDbk1UVTNOVEF3TU1zQUFBQUFBQUFBQU1QQ3dBPT0=\"],\"firstName\":\"علی\",\"lastName\":\"خبازیان\",\"firstNameEnglish\":None,\"lastNameEnglish\":None,\"title\":\"MR\",\"seats\":[21],\"nationalCodes\":[\"1272955753\"]}\n",
    "headers = {\n",
    "    \"Authorization\": f\"Bearer {token}\"\n",
    "}\n",
    "\n",
    "response = requests.request(\"PUT\", url, json=payload, headers=headers)\n",
    "\n",
    "print(response.text)\n",
    "basketId=response.json()['result']['basketId']\n",
    "print(basketId)"
   ],
   "metadata": {
    "collapsed": false,
    "ExecuteTime": {
     "end_time": "2023-09-18T11:39:28.279824Z",
     "start_time": "2023-09-18T11:39:19.746242Z"
    }
   },
   "id": "82f510af2d3e5b8d"
  },
  {
   "cell_type": "code",
   "execution_count": 26,
   "outputs": [
    {
     "name": "stdout",
     "output_type": "stream",
     "text": [
      "{\"result\":null,\"targetUrl\":null,\"success\":false,\"error\":{\"errorCode\":0,\"message\":\"Can not checkout a basket in Checkedout status\",\"details\":\"\",\"source\":null,\"validationErrors\":{}},\"unauthorizedRequest\":false,\"__wrapped\":true,\"__traceId\":null}\n"
     ]
    },
    {
     "ename": "TypeError",
     "evalue": "'NoneType' object is not subscriptable",
     "output_type": "error",
     "traceback": [
      "\u001B[0;31m---------------------------------------------------------------------------\u001B[0m",
      "\u001B[0;31mTypeError\u001B[0m                                 Traceback (most recent call last)",
      "Cell \u001B[0;32mIn[26], line 12\u001B[0m\n\u001B[1;32m     10\u001B[0m response \u001B[38;5;241m=\u001B[39m requests\u001B[38;5;241m.\u001B[39mrequest(\u001B[38;5;124m\"\u001B[39m\u001B[38;5;124mPOST\u001B[39m\u001B[38;5;124m\"\u001B[39m, url,json\u001B[38;5;241m=\u001B[39mpayload ,headers\u001B[38;5;241m=\u001B[39mheaders)\n\u001B[1;32m     11\u001B[0m \u001B[38;5;28mprint\u001B[39m(response\u001B[38;5;241m.\u001B[39mtext)\n\u001B[0;32m---> 12\u001B[0m orderId\u001B[38;5;241m=\u001B[39m\u001B[43mresponse\u001B[49m\u001B[38;5;241;43m.\u001B[39;49m\u001B[43mjson\u001B[49m\u001B[43m(\u001B[49m\u001B[43m)\u001B[49m\u001B[43m[\u001B[49m\u001B[38;5;124;43m'\u001B[39;49m\u001B[38;5;124;43mresult\u001B[39;49m\u001B[38;5;124;43m'\u001B[39;49m\u001B[43m]\u001B[49m\u001B[43m[\u001B[49m\u001B[38;5;124;43m'\u001B[39;49m\u001B[38;5;124;43morderId\u001B[39;49m\u001B[38;5;124;43m'\u001B[39;49m\u001B[43m]\u001B[49m\n\u001B[1;32m     13\u001B[0m \u001B[38;5;28mprint\u001B[39m(orderId)\n",
      "\u001B[0;31mTypeError\u001B[0m: 'NoneType' object is not subscriptable"
     ]
    }
   ],
   "source": [
    "# checkout\n",
    "# https://ws.alibaba.ir/api/v2/coordinator/basket/80503438/checkout\n",
    "url = f\"https://ws.alibaba.ir/api/v2/coordinator/basket/{basketId}/checkout\"\n",
    "headers = {\n",
    "    \"Authorization\": f\"Bearer {token}\"\n",
    "}\n",
    "\n",
    "\n",
    "payload={\"notificationEmail\":\"\",\"notificationCellphoneNumber\":\"09130834803\"}\n",
    "response = requests.request(\"POST\", url,json=payload ,headers=headers)\n",
    "print(response.text)\n",
    "orderId=response.json()['result']['orderId']\n",
    "print(orderId)"
   ],
   "metadata": {
    "collapsed": false,
    "ExecuteTime": {
     "end_time": "2023-09-18T11:54:12.035869Z",
     "start_time": "2023-09-18T11:54:11.627288Z"
    }
   },
   "id": "321bb87af63df19f"
  },
  {
   "cell_type": "code",
   "execution_count": 24,
   "outputs": [
    {
     "data": {
      "text/plain": "'{\"result\":{\"orderStatus\":\"Confirmed\",\"orderStatusReason\":null,\"newOrderId\":null,\"additionalData\":null,\"errorDescription\":null,\"errorCode\":0,\"actionCode\":0},\"targetUrl\":null,\"success\":true,\"error\":null,\"unauthorizedRequest\":false,\"__wrapped\":true,\"__traceId\":null}'"
     },
     "execution_count": 24,
     "metadata": {},
     "output_type": "execute_result"
    }
   ],
   "source": [
    "# https://ws.alibaba.ir/api/v2/coordinator/order/1059662586/status\n",
    "url = f\"https://ws.alibaba.ir/api/v2/coordinator/order/{1059663791}/status\"\n",
    "\n",
    "headers = {\n",
    "    \"Authorization\": f\"Bearer {token}\"\n",
    "}\n",
    "\n",
    "response = requests.request(\"GET\", url, headers=headers)\n",
    "response.text"
   ],
   "metadata": {
    "collapsed": false,
    "ExecuteTime": {
     "end_time": "2023-09-18T11:42:30.747998Z",
     "start_time": "2023-09-18T11:42:30.322048Z"
    }
   },
   "id": "103ea89e483d2d1e"
  },
  {
   "cell_type": "code",
   "execution_count": null,
   "outputs": [],
   "source": [],
   "metadata": {
    "collapsed": false
   },
   "id": "3fd25282d77e51f7"
  }
 ],
 "metadata": {
  "kernelspec": {
   "display_name": "Python 3",
   "language": "python",
   "name": "python3"
  },
  "language_info": {
   "codemirror_mode": {
    "name": "ipython",
    "version": 2
   },
   "file_extension": ".py",
   "mimetype": "text/x-python",
   "name": "python",
   "nbconvert_exporter": "python",
   "pygments_lexer": "ipython2",
   "version": "2.7.6"
  }
 },
 "nbformat": 4,
 "nbformat_minor": 5
}
