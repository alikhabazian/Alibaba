{
 "cells": [
  {
   "cell_type": "code",
   "execution_count": 1,
   "id": "initial_id",
   "metadata": {
    "collapsed": true,
    "ExecuteTime": {
     "end_time": "2023-10-14T16:40:00.485788Z",
     "start_time": "2023-10-14T16:39:57.913226Z"
    }
   },
   "outputs": [
    {
     "name": "stderr",
     "output_type": "stream",
     "text": [
      "/Users/ali/Documents/Alibaba/myenv/lib/python3.9/site-packages/urllib3/__init__.py:34: NotOpenSSLWarning: urllib3 v2.0 only supports OpenSSL 1.1.1+, currently the 'ssl' module is compiled with 'LibreSSL 2.8.3'. See: https://github.com/urllib3/urllib3/issues/3020\n",
      "  warnings.warn(\n"
     ]
    },
    {
     "name": "stdout",
     "output_type": "stream",
     "text": [
      "<Response [200]>\n"
     ]
    }
   ],
   "source": [
    "import requests\n",
    "\n",
    "url = \"https://ws.alibaba.ir/api/v3/account/token\"\n",
    "\n",
    "payload = {\n",
    "    \"emailOrPhone\": \"09130834803\",\n",
    "    \"password\": \"ali1378428\"\n",
    "}\n",
    "headers = {\n",
    "    # \"cookie\": \"TS01b4a14d=011f5aef9e78a4debd0eb28779cb989b5c326f2d55222a6e76bb8417b1087ee85f35055f72171a079dbb7fc4930768fbdedb0d46a7; TS01b4a14d030=015fa04d29502fc728e9dc4c082cbef26137f7bd671b4b1253742160e85239f5137d89aeedbd4d2602c265713ba72402bd9aa4d314\",\n",
    "    \"Content-Type\": \"application/json\"\n",
    "}\n",
    "\n",
    "response = requests.request(\"POST\", url, json=payload, headers=headers)\n",
    "\n",
    "print(response)"
   ]
  },
  {
   "cell_type": "code",
   "execution_count": 2,
   "outputs": [],
   "source": [
    "token=response.json()['result']['access_token']"
   ],
   "metadata": {
    "collapsed": false,
    "ExecuteTime": {
     "end_time": "2023-10-14T16:40:04.635562Z",
     "start_time": "2023-10-14T16:40:04.617809Z"
    }
   },
   "id": "3ca1012b6f81c7b2"
  },
  {
   "cell_type": "code",
   "execution_count": 3,
   "outputs": [
    {
     "data": {
      "text/plain": "'eyJhbGciOiJSUzI1NiIsImtpZCI6IkE2MDk5NjE0MUU5MTJDMDhBRjQyMEFGMjUyNjI2N0Q5NkNGRjUyRjZSUzI1NiIsInR5cCI6ImF0K2p3dCIsIng1dCI6InBnbVdGQjZSTEFpdlFncnlVbUpuMld6X1V2WSJ9.eyJuYmYiOjE2OTczMDE2MDEsImV4cCI6MTY5OTAyOTYwMSwiaXNzIjoiaHR0cDovL2lkZW50aXR5IiwiYXVkIjoiYXBpMSIsImNsaWVudF9pZCI6InJvLmNsaWVudCIsInN1YiI6ImUwMmQyMzk1LWRmMGUtNGU5NC1iZGNiLTZjNDI1MWVmNjg2NSIsImF1dGhfdGltZSI6MTY5NzMwMTYwMCwiaWRwIjoibG9jYWwiLCJwcmVmZXJyZWRfdXNlcm5hbWUiOiIwOTEzMDgzNDgwMyIsInBob25lX251bWJlciI6IjA5MTMwODM0ODAzIiwicGhvbmVfbnVtYmVyX3ZlcmlmaWVkIjp0cnVlLCJpc19yZXNlbGxlciI6ZmFsc2UsInNhbGVzX2NoYW5uZWwiOiJCMkMiLCJ1c2VyX3VuaXF1ZV9udW1iZXIiOiI1MDU5MTg4NjYiLCJqdGkiOiJCMTZEQTgwQjRGNkEwRDQxNDhDQTM4OTEyOERGM0Q5NSIsImlhdCI6MTY5NzMwMTYwMSwic2NvcGUiOlsiYXBpMSJdLCJhbXIiOlsicHdkIl19.BDJmUs4M9fr_5PLG3dZu0KfaF-pbNWmWcb5NpppNxZeGBPRROj1UqCPhd47fGwB2w6NsRWQ6yTLtkSaeUIkTfoZJm_fQcQ-hRedFN9VRnICzTPNS3dB_zmv2jxxwyhlShHOAM11D06P5CFyXODSPAfmvsVfEC74oI-24XJwtrO2x1ABZ8PJD4tmJ1hGM2b5OqOG0MuYUHXGUuHGmichWEhCGCmTWY8Y0VPvequ3HbSwwsYIUDnq4L0HP7ZBQu_ALX-aBiBaLw5m_xifFueb3oKONzf2NZ89B66HAObbem5HL_wfyBzUokQwmSLhwtxJgCnL0aPLv-5c6V8stfhk80A'"
     },
     "execution_count": 3,
     "metadata": {},
     "output_type": "execute_result"
    }
   ],
   "source": [
    "token"
   ],
   "metadata": {
    "collapsed": false,
    "ExecuteTime": {
     "end_time": "2023-10-14T16:40:07.359397Z",
     "start_time": "2023-10-14T16:40:07.351236Z"
    }
   },
   "id": "bbbf08fcb23dd76b"
  },
  {
   "cell_type": "code",
   "execution_count": 10,
   "outputs": [
    {
     "name": "stdout",
     "output_type": "stream",
     "text": [
      "{\"result\":{\"basketId\":82532696},\"targetUrl\":null,\"success\":true,\"error\":null,\"unauthorizedRequest\":false,\"__wrapped\":true,\"__traceId\":null}\n",
      "82532696\n"
     ]
    }
   ],
   "source": [
    "import requests\n",
    "\n",
    "url = \"https://ws.alibaba.ir/api/v1/coordinator/basket/items/bus\"\n",
    "\n",
    "\n",
    "providerItemIds =  \"TlROaE16UXpOemd0TldWaFpTMDBPV0l5TFdKbE4ySXRNVGhsWldOaVltUXdPVFkzTDJzMlVYbE9lbXMwUVdOQmZBPT18NTAxYzg4MmQtOWRiZS00YzU1LWI1YjEtMTQ0ZmU4OGM3M2MyfDNBQTYyVVJPVkU1b1RYcFJlazU2WjNST1YxWm9XbE13TUU5WFNYbE1WMHBzVGpKSmRFMVVhR3hhVjA1cFdXMVJkMDlVV1ROTU1uTXlWVmhzVDJWdGN6QlJWMDVDWmtFOVBka24yTFBaZ2RpeElOaXoyNHpZc1NEWW90aXgyNHpZcHlBbzJLcll1ZGluMllqWmh0dU1JRE1wcHpFMk16WTRPVGVuTVRZek5qZzVONkNncWpFME1ESXZNRGN2TWpTbE1EazZNREN6TWpBeU15MHhNQzB4TmxRd09Ub3dNRG93TU5iL1pTektXTFBZcXRxcElOaTEyWWJZcjltRTI0d2dWa2xRcHpJeE9EQXdNRENuTWpFNE1EQXdNQkNvTVRFek1qQXdNREMrMktyWmg5aXgyS2ZaaGlEWnZ0aW4yNHpZcDltRzJZY2cyTHJZc2Rpb3Z0aXEyWWZZc2RpbjJZWWcyYjdZcDl1TTJLZlpodG1ISU5pNjJMSFlxS2d5TmpNeE1EQXdNTmt0MktyWXFOaXgyNHpZc2lEWXF0aXgyWVhiak5tRzJLZlpoQ0RZcU5peTJMSGFyeURZcXRpbzJMSGJqTml5MlMzWXF0aW8yTEhiak5peUlOaXEyTEhaaGR1TTJZYllwOW1FSU5pbzJMTFlzZHF2SU5pcTJLallzZHVNMkxLUjJTM1lxdGlvMkxIYmpOaXlJTmlxMkxIWmhkdU0yWWJZcDltRUlOaW8yTExZc2RxdklOaXEyS2pZc2R1TTJMS2dBTmx3V0hwRk1FMUVTbVpOUkdSbVRXcFNaazFFYkdaTlJFSm1Na3R5V21nNWFYZ3lTMlphYUd3dlduWjBhVzR5TkhwWmNEbHRSekpaWkdZeVRISlpjMlJwYjFoNlJUSllPV2x4TW5Gc1pqSk1XRnBvZEdsMk1sbFVZbXBHT1ZkVFZrSm1UV3BGTkUxRVFYZE5RelIzVFVSQmQ4S2hNTVBDdzZFd2tNc0FBQUFBQUFBQUFBRENvS0RMUC9BQUFBQUFBQUJrQUFFQXAxTjBZWEpDZFhQVy8yVXMrNURaTVdoMGRIQnpPaTh2WTJSdUxtRnNhV0poWW1FdWFYSXZjM1JoZEdsakwybHRaeTlpZFhNdk1UWXpOamc1Tnk1cWNHZkMyVFBZcXRpdTJLb2cyTFRaaUNCV1NWQWdJQzBnMkxQYmpOaXoyS3JaaFNEWXF0bUgyWWpiak5tSElObUYyTGZZcU5tSTJMa0FvTmtrTlRBeFl6ZzRNbVF0T1dSaVpTMDBZelUxTFdJMVlqRXRNVFEwWm1VNE9HTTNNMk15QWFFd3dLRXdwekl4T0RBd01ERExBQUFBQUFBQUFBRER3c0E9\"\n",
    "\n",
    "\n",
    "seat=14\n",
    "payload = {\"providerItemIds\":[f\"{providerItemIds}\"],\n",
    "           \"firstName\":\"علی\",\n",
    "           \"lastName\":\"خبازیان\",\n",
    "           \"firstNameEnglish\":None,\n",
    "           \"lastNameEnglish\":None,\n",
    "           \"title\":\"MR\",\n",
    "           \"seats\":[seat],\n",
    "           \"nationalCodes\":[\"1272955753\"]\n",
    "           }\n",
    "headers = {\n",
    "    \"Authorization\": f\"Bearer {token}\"\n",
    "}\n",
    "\n",
    "response = requests.request(\"PUT\", url, json=payload, headers=headers)\n",
    "\n",
    "print(response.text)\n",
    "basketId=response.json()['result']['basketId']\n",
    "print(basketId)"
   ],
   "metadata": {
    "collapsed": false,
    "ExecuteTime": {
     "end_time": "2023-10-14T16:46:27.137941Z",
     "start_time": "2023-10-14T16:46:25.659244Z"
    }
   },
   "id": "82f510af2d3e5b8d"
  },
  {
   "cell_type": "code",
   "execution_count": 11,
   "outputs": [
    {
     "name": "stdout",
     "output_type": "stream",
     "text": [
      "{\"result\":{\"orderId\":1060722904},\"targetUrl\":null,\"success\":true,\"error\":null,\"unauthorizedRequest\":false,\"__wrapped\":true,\"__traceId\":null}\n",
      "1060722904\n"
     ]
    }
   ],
   "source": [
    "# checkout\n",
    "# https://ws.alibaba.ir/api/v2/coordinator/basket/80503438/checkout\n",
    "url = f\"https://ws.alibaba.ir/api/v2/coordinator/basket/{basketId}/checkout\"\n",
    "headers = {\n",
    "    \"Authorization\": f\"Bearer {token}\"\n",
    "}\n",
    "\n",
    "\n",
    "payload={\"notificationEmail\":\"\",\"notificationCellphoneNumber\":\"09130834803\"}\n",
    "response = requests.request(\"POST\", url,json=payload ,headers=headers)\n",
    "print(response.text)\n",
    "orderId=response.json()['result']['orderId']\n",
    "print(orderId)"
   ],
   "metadata": {
    "collapsed": false,
    "ExecuteTime": {
     "end_time": "2023-10-14T16:46:29.796668Z",
     "start_time": "2023-10-14T16:46:28.074679Z"
    }
   },
   "id": "321bb87af63df19f"
  },
  {
   "cell_type": "code",
   "execution_count": 12,
   "outputs": [
    {
     "data": {
      "text/plain": "'{\"result\":true,\"targetUrl\":null,\"success\":true,\"error\":null,\"unauthorizedRequest\":false,\"__wrapped\":true,\"__traceId\":null}'"
     },
     "execution_count": 12,
     "metadata": {},
     "output_type": "execute_result"
    }
   ],
   "source": [
    "url =f'https://ws.alibaba.ir/api/v1/coordinator/order/{orderId}/confirm'\n",
    "headers = {\n",
    "    \"Authorization\": f\"Bearer {token}\"\n",
    "}\n",
    "response = requests.request(\"POST\", url, headers=headers)\n",
    "\n",
    "response.text"
   ],
   "metadata": {
    "collapsed": false,
    "ExecuteTime": {
     "end_time": "2023-10-14T16:46:45.199363Z",
     "start_time": "2023-10-14T16:46:30.502358Z"
    }
   },
   "id": "84079f7c980de752"
  },
  {
   "cell_type": "code",
   "execution_count": 13,
   "outputs": [
    {
     "data": {
      "text/plain": "'{\"result\":{\"orderStatus\":\"Confirmed\",\"orderStatusReason\":null,\"newOrderId\":null,\"additionalData\":null,\"errorDescription\":null,\"errorCode\":0,\"actionCode\":0},\"targetUrl\":null,\"success\":true,\"error\":null,\"unauthorizedRequest\":false,\"__wrapped\":true,\"__traceId\":null}'"
     },
     "execution_count": 13,
     "metadata": {},
     "output_type": "execute_result"
    }
   ],
   "source": [
    "# https://ws.alibaba.ir/api/v2/coordinator/order/1059662586/status\n",
    "url = f\"https://ws.alibaba.ir/api/v2/coordinator/order/{orderId}/status\"\n",
    "\n",
    "headers = {\n",
    "    \"Authorization\": f\"Bearer {token}\"\n",
    "}\n",
    "\n",
    "response = requests.request(\"GET\", url, headers=headers)\n",
    "response.text"
   ],
   "metadata": {
    "collapsed": false,
    "ExecuteTime": {
     "end_time": "2023-10-14T16:47:00.513123Z",
     "start_time": "2023-10-14T16:46:48.460053Z"
    }
   },
   "id": "103ea89e483d2d1e"
  },
  {
   "cell_type": "markdown",
   "source": [],
   "metadata": {
    "collapsed": false
   },
   "id": "4f288bfab920fcc0"
  },
  {
   "cell_type": "code",
   "execution_count": 14,
   "outputs": [
    {
     "data": {
      "text/plain": "1060722904"
     },
     "execution_count": 14,
     "metadata": {},
     "output_type": "execute_result"
    }
   ],
   "source": [
    "orderId"
   ],
   "metadata": {
    "collapsed": false,
    "ExecuteTime": {
     "end_time": "2023-10-14T16:47:03.091873Z",
     "start_time": "2023-10-14T16:47:03.087704Z"
    }
   },
   "id": "2af15b3d679b803d"
  },
  {
   "cell_type": "code",
   "execution_count": 15,
   "outputs": [
    {
     "data": {
      "text/plain": "'{\"result\":{\"isRedirectToBankNeeded\":true,\"transactionStatus\":\"Pending\",\"requestId\":\"110062264\",\"bankUrl\":\"https://www.alibaba.ir/pay/process?Amount=2180000&Applicant=4&ProductToken=Bus&OrderId=110062264&returnUrl=https://www.alibaba.ir/bus/THR-TBZ/o6ti0e/1060722904/issue&CellNumber=09130834803&exchangeRate=1\",\"transactionIds\":[],\"resultMessage\":\"\",\"description\":null},\"targetUrl\":null,\"success\":true,\"error\":null,\"unauthorizedRequest\":false,\"__wrapped\":true,\"__traceId\":null}'"
     },
     "execution_count": 15,
     "metadata": {},
     "output_type": "execute_result"
    }
   ],
   "source": [
    "url= f'https://ws.alibaba.ir/api/v3/coordinator/order/{orderId}/pay-request'\n",
    "\n",
    "\n",
    "\n",
    "payload={\"redirectUrl\":f\"https://www.alibaba.ir/bus/THR-TBZ/o6ti0e/{orderId}/issue\",\"payRequestType\":\"PayByBank\"}\n",
    "\n",
    "headers = {\n",
    "    \"Authorization\": f\"Bearer {token}\"\n",
    "}\n",
    "\n",
    "response = requests.request(\"POST\", url,json=payload, headers=headers)\n",
    "response.text"
   ],
   "metadata": {
    "collapsed": false,
    "ExecuteTime": {
     "end_time": "2023-10-14T16:47:24.990552Z",
     "start_time": "2023-10-14T16:47:04.394625Z"
    }
   },
   "id": "3fd25282d77e51f7"
  },
  {
   "cell_type": "code",
   "execution_count": 79,
   "outputs": [
    {
     "data": {
      "text/plain": "'{\"currentDateTime\":\"2023-09-19T19:31:43.9086333+03:30\"}'"
     },
     "execution_count": 79,
     "metadata": {},
     "output_type": "execute_result"
    }
   ],
   "source": [
    "url='https://ws.alibaba.ir/api/v1/fintech/experiments/common/current-datetime'\n",
    "\n",
    "headers = {\n",
    "    \"Authorization\": f\"Bearer {token}\"\n",
    "}\n",
    "\n",
    "response = requests.request(\"GET\", url,headers=headers)\n",
    "response.text"
   ],
   "metadata": {
    "collapsed": false,
    "ExecuteTime": {
     "end_time": "2023-09-19T16:01:43.882475Z",
     "start_time": "2023-09-19T16:01:43.693339Z"
    }
   },
   "id": "eb9428e17eadeee4"
  },
  {
   "cell_type": "code",
   "execution_count": 30,
   "outputs": [
    {
     "name": "stdout",
     "output_type": "stream",
     "text": [
      "2 Available\n",
      "{'index': 2, 'number': 2, 'column': 2, 'row': 1, 'status': 'Available'}\n"
     ]
    }
   ],
   "source": [
    "providerItemIds='TlROaE16UXpOemd0TldWaFpTMDBPV0l5TFdKbE4ySXRNVGhsWldOaVltUXdPVFkzTDJzMlVYbE9lbXMwUVdOQmZBPT18NTAxYzg4MmQtOWRiZS00YzU1LWI1YjEtMTQ0ZmU4OGM3M2MyfDNBQTYyVVJPVkU1b1RYcFJlazU2WjNST1YxWm9XbE13TUU5WFNYbE1WMHBzVGpKSmRFMVVhR3hhVjA1cFdXMVJkMDlVV1ROTU1uTXlWVmhzVDJWdGN6QlJWMDVDWmtFOVBka24yTFBaZ2RpeElOaXoyNHpZc1NEWW90aXgyNHpZcHlBbzJLcll1ZGluMllqWmh0dU1JRE1wcHpFMk16WTRPVGVuTVRZek5qZzVONkNncWpFME1ESXZNRGN2TWpTbE1EazZNREN6TWpBeU15MHhNQzB4TmxRd09Ub3dNRG93TU5iL1pTektXTFBZcXRxcElOaTEyWWJZcjltRTI0d2dWa2xRcHpJeE9EQXdNRENuTWpFNE1EQXdNQkNvTVRFek1qQXdNREMrMktyWmg5aXgyS2ZaaGlEWnZ0aW4yNHpZcDltRzJZY2cyTHJZc2Rpb3Z0aXEyWWZZc2RpbjJZWWcyYjdZcDl1TTJLZlpodG1ISU5pNjJMSFlxS2d5TmpNeE1EQXdNTmt0MktyWXFOaXgyNHpZc2lEWXF0aXgyWVhiak5tRzJLZlpoQ0RZcU5peTJMSGFyeURZcXRpbzJMSGJqTml5MlMzWXF0aW8yTEhiak5peUlOaXEyTEhaaGR1TTJZYllwOW1FSU5pbzJMTFlzZHF2SU5pcTJLallzZHVNMkxLUjJTM1lxdGlvMkxIYmpOaXlJTmlxMkxIWmhkdU0yWWJZcDltRUlOaW8yTExZc2RxdklOaXEyS2pZc2R1TTJMS2dBTmx3V0hwRk1FMUVTbVpOUkdSbVRXcFNaazFFYkdaTlJFSm1Na3R5V21nNWFYZ3lTMlphYUd3dlduWjBhVzR5TkhwWmNEbHRSekpaWkdZeVRISlpjMlJwYjFoNlJUSllPV2x4TW5Gc1pqSk1XRnBvZEdsMk1sbFVZbXBHT1ZkVFZrSm1UV3BGTkUxRVFYZE5RelIzVFVSQmQ4S2hNTVBDdzZFd2tNc0FBQUFBQUFBQUFBRENvS0RMUC9BQUFBQUFBQUJrQUFFQXAxTjBZWEpDZFhQVy8yVXMrNURaTVdoMGRIQnpPaTh2WTJSdUxtRnNhV0poWW1FdWFYSXZjM1JoZEdsakwybHRaeTlpZFhNdk1UWXpOamc1Tnk1cWNHZkMyVFBZcXRpdTJLb2cyTFRaaUNCV1NWQWdJQzBnMkxQYmpOaXoyS3JaaFNEWXF0bUgyWWpiak5tSElObUYyTGZZcU5tSTJMa0FvTmtrTlRBeFl6ZzRNbVF0T1dSaVpTMDBZelUxTFdJMVlqRXRNVFEwWm1VNE9HTTNNMk15QWFFd3dLRXdwekl4T0RBd01ERExBQUFBQUFBQUFBRER3c0E9'\n",
    "url=f'https://ws.alibaba.ir/api/v1/bus/available/{providerItemIds}/seats'\n",
    "\n",
    "response = requests.request(\"GET\", url)\n",
    "for item in response.json()['result']:  \n",
    "    if item['status']=='Available':\n",
    "        print(item['index'],item['status'])\n",
    "        seat=item['index']\n",
    "        break\n",
    "        \n",
    "print(item)"
   ],
   "metadata": {
    "collapsed": false,
    "ExecuteTime": {
     "end_time": "2023-10-14T16:56:25.906615Z",
     "start_time": "2023-10-14T16:56:25.672424Z"
    }
   },
   "id": "c7729ede55b9a3c"
  },
  {
   "cell_type": "code",
   "execution_count": 37,
   "outputs": [
    {
     "name": "stdout",
     "output_type": "stream",
     "text": [
      "6 Available\n",
      "{'index': 6, 'number': 6, 'column': 5, 'row': 2, 'status': 'Available'}\n",
      "{\"result\":{\"basketId\":82533920},\"targetUrl\":null,\"success\":true,\"error\":null,\"unauthorizedRequest\":false,\"__wrapped\":true,\"__traceId\":null}\n",
      "82533920\n",
      "{\"result\":{\"orderId\":1060723899},\"targetUrl\":null,\"success\":true,\"error\":null,\"unauthorizedRequest\":false,\"__wrapped\":true,\"__traceId\":null}\n",
      "1060723899\n"
     ]
    },
    {
     "data": {
      "text/plain": "'https://www.alibaba.ir/pay/process?Amount=2180000&Applicant=4&ProductToken=Bus&OrderId=110063172&returnUrl=https://www.alibaba.ir/bus/THR-TBZ/o6ti0e/1060723899/issue&CellNumber=09130834803&exchangeRate=1'"
     },
     "execution_count": 37,
     "metadata": {},
     "output_type": "execute_result"
    }
   ],
   "source": [
    "providerItemIds='TlROaE16UXpOemd0TldWaFpTMDBPV0l5TFdKbE4ySXRNVGhsWldOaVltUXdPVFkzTDJzMlVYbE9lbXMwUVdOQmZBPT18NTAxYzg4MmQtOWRiZS00YzU1LWI1YjEtMTQ0ZmU4OGM3M2MyfDNBQTYyVVJPVkU1b1RYcFJlazU2WjNST1YxWm9XbE13TUU5WFNYbE1WMHBzVGpKSmRFMVVhR3hhVjA1cFdXMVJkMDlVV1ROTU1uTXlWVmhzVDJWdGN6QlJWMDVDWmtFOVBka24yTFBaZ2RpeElOaXoyNHpZc1NEWW90aXgyNHpZcHlBbzJLcll1ZGluMllqWmh0dU1JRE1wcHpFMk16WTRPVGVuTVRZek5qZzVONkNncWpFME1ESXZNRGN2TWpTbE1EazZNREN6TWpBeU15MHhNQzB4TmxRd09Ub3dNRG93TU5iL1pTektXTFBZcXRxcElOaTEyWWJZcjltRTI0d2dWa2xRcHpJeE9EQXdNRENuTWpFNE1EQXdNQkNvTVRFek1qQXdNREMrMktyWmg5aXgyS2ZaaGlEWnZ0aW4yNHpZcDltRzJZY2cyTHJZc2Rpb3Z0aXEyWWZZc2RpbjJZWWcyYjdZcDl1TTJLZlpodG1ISU5pNjJMSFlxS2d5TmpNeE1EQXdNTmt0MktyWXFOaXgyNHpZc2lEWXF0aXgyWVhiak5tRzJLZlpoQ0RZcU5peTJMSGFyeURZcXRpbzJMSGJqTml5MlMzWXF0aW8yTEhiak5peUlOaXEyTEhaaGR1TTJZYllwOW1FSU5pbzJMTFlzZHF2SU5pcTJLallzZHVNMkxLUjJTM1lxdGlvMkxIYmpOaXlJTmlxMkxIWmhkdU0yWWJZcDltRUlOaW8yTExZc2RxdklOaXEyS2pZc2R1TTJMS2dBTmx3V0hwRk1FMUVTbVpOUkdSbVRXcFNaazFFYkdaTlJFSm1Na3R5V21nNWFYZ3lTMlphYUd3dlduWjBhVzR5TkhwWmNEbHRSekpaWkdZeVRISlpjMlJwYjFoNlJUSllPV2x4TW5Gc1pqSk1XRnBvZEdsMk1sbFVZbXBHT1ZkVFZrSm1UV3BGTkUxRVFYZE5RelIzVFVSQmQ4S2hNTVBDdzZFd2tNc0FBQUFBQUFBQUFBRENvS0RMUC9BQUFBQUFBQUJrQUFFQXAxTjBZWEpDZFhQVy8yVXMrNURaTVdoMGRIQnpPaTh2WTJSdUxtRnNhV0poWW1FdWFYSXZjM1JoZEdsakwybHRaeTlpZFhNdk1UWXpOamc1Tnk1cWNHZkMyVFBZcXRpdTJLb2cyTFRaaUNCV1NWQWdJQzBnMkxQYmpOaXoyS3JaaFNEWXF0bUgyWWpiak5tSElObUYyTGZZcU5tSTJMa0FvTmtrTlRBeFl6ZzRNbVF0T1dSaVpTMDBZelUxTFdJMVlqRXRNVFEwWm1VNE9HTTNNMk15QWFFd3dLRXdwekl4T0RBd01ERExBQUFBQUFBQUFBRER3c0E9'\n",
    "url=f'https://ws.alibaba.ir/api/v1/bus/available/{providerItemIds}/seats'\n",
    "\n",
    "response = requests.request(\"GET\", url)\n",
    "for item in response.json()['result']:  \n",
    "    if item['status']=='Available':\n",
    "        print(item['index'],item['status'])\n",
    "        seat=item['index']\n",
    "        break\n",
    "        \n",
    "print(item)\n",
    "url = \"https://ws.alibaba.ir/api/v1/coordinator/basket/items/bus\"\n",
    "payload = {\"providerItemIds\":[f\"{providerItemIds}\"],\n",
    "           \"firstName\":\"علی\",\n",
    "           \"lastName\":\"خبازیان\",\n",
    "           \"firstNameEnglish\":None,\n",
    "           \"lastNameEnglish\":None,\n",
    "           \"title\":\"MR\",\n",
    "           \"seats\":[seat],\n",
    "           \"nationalCodes\":[\"1272955753\"]\n",
    "           }\n",
    "headers = {\n",
    "    \"Authorization\": f\"Bearer {token}\"\n",
    "}\n",
    "response = requests.request(\"PUT\", url, json=payload, headers=headers)\n",
    "print(response.text)\n",
    "basketId=response.json()['result']['basketId']\n",
    "print(basketId)\n",
    "url = f\"https://ws.alibaba.ir/api/v2/coordinator/basket/{basketId}/checkout\"\n",
    "headers = {\n",
    "    \"Authorization\": f\"Bearer {token}\"\n",
    "}\n",
    "payload={\"notificationEmail\":\"\",\"notificationCellphoneNumber\":\"09130834803\"}\n",
    "response = requests.request(\"POST\", url,json=payload ,headers=headers)\n",
    "print(response.text)\n",
    "orderId=response.json()['result']['orderId']\n",
    "print(orderId)\n",
    "url =f'https://ws.alibaba.ir/api/v1/coordinator/order/{orderId}/confirm'\n",
    "headers = {\n",
    "    \"Authorization\": f\"Bearer {token}\"\n",
    "}\n",
    "response = requests.request(\"POST\", url, headers=headers)\n",
    "\n",
    "response.text\n",
    "url= f'https://ws.alibaba.ir/api/v3/coordinator/order/{orderId}/pay-request'\n",
    "\n",
    "\n",
    "\n",
    "payload={\"redirectUrl\":f\"https://www.alibaba.ir/bus/THR-TBZ/o6ti0e/{orderId}/issue\",\"payRequestType\":\"PayByBank\"}\n",
    "\n",
    "headers = {\n",
    "    \"Authorization\": f\"Bearer {token}\"\n",
    "}\n",
    "\n",
    "response = requests.request(\"POST\", url,json=payload, headers=headers)\n",
    "response.json()['result']['bankUrl']"
   ],
   "metadata": {
    "collapsed": false,
    "ExecuteTime": {
     "end_time": "2023-10-14T17:10:12.604554Z",
     "start_time": "2023-10-14T17:10:09.556278Z"
    }
   },
   "id": "9d9a9df0b3bf6dec"
  },
  {
   "cell_type": "code",
   "execution_count": null,
   "outputs": [],
   "source": [],
   "metadata": {
    "collapsed": false
   },
   "id": "9dc4844fa6edb80e"
  }
 ],
 "metadata": {
  "kernelspec": {
   "display_name": "Python 3",
   "language": "python",
   "name": "python3"
  },
  "language_info": {
   "codemirror_mode": {
    "name": "ipython",
    "version": 2
   },
   "file_extension": ".py",
   "mimetype": "text/x-python",
   "name": "python",
   "nbconvert_exporter": "python",
   "pygments_lexer": "ipython2",
   "version": "2.7.6"
  }
 },
 "nbformat": 4,
 "nbformat_minor": 5
}
